{
 "cells": [
  {
   "cell_type": "code",
   "execution_count": 7,
   "metadata": {},
   "outputs": [],
   "source": [
    "import pandas as pd\n",
    "import numpy as np\n",
    "import seaborn as sns\n",
    "import warnings\n",
    "import matplotlib.pyplot as plt\n",
    "warnings.filterwarnings('ignore')\n",
    "%matplotlib inline\n",
    "sns.set()\n",
    "from sklearn.preprocessing import normalize\n",
    "\n",
    "\n",
    "from sklearn.pipeline import Pipeline\n",
    "from sklearn.preprocessing import StandardScaler\n",
    "from sklearn.preprocessing import OrdinalEncoder\n",
    "from sklearn.compose import ColumnTransformer\n",
    "from sklearn.preprocessing import FunctionTransformer\n",
    "from sklearn.preprocessing import Normalizer\n",
    "\n",
    "\n",
    "from sklearn.linear_model import LogisticRegression\n",
    "from sklearn.tree import DecisionTreeClassifier\n",
    "from sklearn.ensemble import RandomForestClassifier\n",
    "from sklearn.svm import SVC\n",
    "from sklearn.ensemble import GradientBoostingClassifier\n",
    "#import xgboost as xgb\n",
    "\n",
    "from sklearn.metrics import accuracy_score\n",
    "from sklearn.metrics import classification_report, confusion_matrix"
   ]
  },
  {
   "cell_type": "markdown",
   "metadata": {},
   "source": [
    "# Importing the dataset"
   ]
  },
  {
   "cell_type": "code",
   "execution_count": 8,
   "metadata": {},
   "outputs": [
    {
     "data": {
      "text/html": [
       "<div>\n",
       "<style scoped>\n",
       "    .dataframe tbody tr th:only-of-type {\n",
       "        vertical-align: middle;\n",
       "    }\n",
       "\n",
       "    .dataframe tbody tr th {\n",
       "        vertical-align: top;\n",
       "    }\n",
       "\n",
       "    .dataframe thead th {\n",
       "        text-align: right;\n",
       "    }\n",
       "</style>\n",
       "<table border=\"1\" class=\"dataframe\">\n",
       "  <thead>\n",
       "    <tr style=\"text-align: right;\">\n",
       "      <th></th>\n",
       "      <th>Gender</th>\n",
       "      <th>Age</th>\n",
       "      <th>Height</th>\n",
       "      <th>Weight</th>\n",
       "      <th>family_history_with_overweight</th>\n",
       "      <th>FAVC</th>\n",
       "      <th>FCVC</th>\n",
       "      <th>NCP</th>\n",
       "      <th>CAEC</th>\n",
       "      <th>SMOKE</th>\n",
       "      <th>CH2O</th>\n",
       "      <th>SCC</th>\n",
       "      <th>FAF</th>\n",
       "      <th>TUE</th>\n",
       "      <th>CALC</th>\n",
       "      <th>MTRANS</th>\n",
       "      <th>NObeyesdad</th>\n",
       "    </tr>\n",
       "  </thead>\n",
       "  <tbody>\n",
       "    <tr>\n",
       "      <th>0</th>\n",
       "      <td>Female</td>\n",
       "      <td>21.0</td>\n",
       "      <td>1.62</td>\n",
       "      <td>64.0</td>\n",
       "      <td>yes</td>\n",
       "      <td>no</td>\n",
       "      <td>2.0</td>\n",
       "      <td>3.0</td>\n",
       "      <td>Sometimes</td>\n",
       "      <td>no</td>\n",
       "      <td>2.0</td>\n",
       "      <td>no</td>\n",
       "      <td>0.0</td>\n",
       "      <td>1.0</td>\n",
       "      <td>no</td>\n",
       "      <td>Public_Transportation</td>\n",
       "      <td>Normal_Weight</td>\n",
       "    </tr>\n",
       "    <tr>\n",
       "      <th>1</th>\n",
       "      <td>Female</td>\n",
       "      <td>21.0</td>\n",
       "      <td>1.52</td>\n",
       "      <td>56.0</td>\n",
       "      <td>yes</td>\n",
       "      <td>no</td>\n",
       "      <td>3.0</td>\n",
       "      <td>3.0</td>\n",
       "      <td>Sometimes</td>\n",
       "      <td>yes</td>\n",
       "      <td>3.0</td>\n",
       "      <td>yes</td>\n",
       "      <td>3.0</td>\n",
       "      <td>0.0</td>\n",
       "      <td>Sometimes</td>\n",
       "      <td>Public_Transportation</td>\n",
       "      <td>Normal_Weight</td>\n",
       "    </tr>\n",
       "    <tr>\n",
       "      <th>2</th>\n",
       "      <td>Male</td>\n",
       "      <td>23.0</td>\n",
       "      <td>1.80</td>\n",
       "      <td>77.0</td>\n",
       "      <td>yes</td>\n",
       "      <td>no</td>\n",
       "      <td>2.0</td>\n",
       "      <td>3.0</td>\n",
       "      <td>Sometimes</td>\n",
       "      <td>no</td>\n",
       "      <td>2.0</td>\n",
       "      <td>no</td>\n",
       "      <td>2.0</td>\n",
       "      <td>1.0</td>\n",
       "      <td>Frequently</td>\n",
       "      <td>Public_Transportation</td>\n",
       "      <td>Normal_Weight</td>\n",
       "    </tr>\n",
       "    <tr>\n",
       "      <th>3</th>\n",
       "      <td>Male</td>\n",
       "      <td>27.0</td>\n",
       "      <td>1.80</td>\n",
       "      <td>87.0</td>\n",
       "      <td>no</td>\n",
       "      <td>no</td>\n",
       "      <td>3.0</td>\n",
       "      <td>3.0</td>\n",
       "      <td>Sometimes</td>\n",
       "      <td>no</td>\n",
       "      <td>2.0</td>\n",
       "      <td>no</td>\n",
       "      <td>2.0</td>\n",
       "      <td>0.0</td>\n",
       "      <td>Frequently</td>\n",
       "      <td>Walking</td>\n",
       "      <td>Overweight_Level_I</td>\n",
       "    </tr>\n",
       "    <tr>\n",
       "      <th>4</th>\n",
       "      <td>Male</td>\n",
       "      <td>22.0</td>\n",
       "      <td>1.78</td>\n",
       "      <td>89.8</td>\n",
       "      <td>no</td>\n",
       "      <td>no</td>\n",
       "      <td>2.0</td>\n",
       "      <td>1.0</td>\n",
       "      <td>Sometimes</td>\n",
       "      <td>no</td>\n",
       "      <td>2.0</td>\n",
       "      <td>no</td>\n",
       "      <td>0.0</td>\n",
       "      <td>0.0</td>\n",
       "      <td>Sometimes</td>\n",
       "      <td>Public_Transportation</td>\n",
       "      <td>Overweight_Level_II</td>\n",
       "    </tr>\n",
       "  </tbody>\n",
       "</table>\n",
       "</div>"
      ],
      "text/plain": [
       "   Gender   Age  Height  Weight family_history_with_overweight FAVC  FCVC  \\\n",
       "0  Female  21.0    1.62    64.0                            yes   no   2.0   \n",
       "1  Female  21.0    1.52    56.0                            yes   no   3.0   \n",
       "2    Male  23.0    1.80    77.0                            yes   no   2.0   \n",
       "3    Male  27.0    1.80    87.0                             no   no   3.0   \n",
       "4    Male  22.0    1.78    89.8                             no   no   2.0   \n",
       "\n",
       "   NCP       CAEC SMOKE  CH2O  SCC  FAF  TUE        CALC  \\\n",
       "0  3.0  Sometimes    no   2.0   no  0.0  1.0          no   \n",
       "1  3.0  Sometimes   yes   3.0  yes  3.0  0.0   Sometimes   \n",
       "2  3.0  Sometimes    no   2.0   no  2.0  1.0  Frequently   \n",
       "3  3.0  Sometimes    no   2.0   no  2.0  0.0  Frequently   \n",
       "4  1.0  Sometimes    no   2.0   no  0.0  0.0   Sometimes   \n",
       "\n",
       "                  MTRANS           NObeyesdad  \n",
       "0  Public_Transportation        Normal_Weight  \n",
       "1  Public_Transportation        Normal_Weight  \n",
       "2  Public_Transportation        Normal_Weight  \n",
       "3                Walking   Overweight_Level_I  \n",
       "4  Public_Transportation  Overweight_Level_II  "
      ]
     },
     "execution_count": 8,
     "metadata": {},
     "output_type": "execute_result"
    }
   ],
   "source": [
    "df = pd.read_csv(r'C:\\Users\\khush\\Python, 12-7\\Practice\\Github\\Obesity_risk_Project8\\notebooks\\data\\ObesityDataSet.csv')\n",
    "df.head()"
   ]
  },
  {
   "cell_type": "markdown",
   "metadata": {},
   "source": [
    "## Attributes\n",
    "FAVC = Frequent consumption of high caloric food \n",
    "\n",
    "FCVC = Frequency of consumption of vegetables \n",
    "\n",
    "NCP = Number of main meals \n",
    "\n",
    "CAEC = Consumption of food between meals \n",
    "\n",
    "CH20 = Consumption of water daily \n",
    "\n",
    "CALC = Consumption of alcohol \n",
    "\n",
    "SCC = Calories consumption monitoring \n",
    "\n",
    "FAF = Physical activity frequency \n",
    "\n",
    "TUE = Time using technology devices \n",
    "\n",
    "MTRANS = Transportation used "
   ]
  },
  {
   "cell_type": "markdown",
   "metadata": {},
   "source": [
    "### Unique values in the categorical columns"
   ]
  },
  {
   "cell_type": "code",
   "execution_count": 3,
   "metadata": {},
   "outputs": [
    {
     "name": "stdout",
     "output_type": "stream",
     "text": [
      "Unique value in Gender column is: [['Female' 'Male']]\n",
      "\n",
      "Unique value in family_history_with_overweight column is: [['yes' 'no']]\n",
      "\n",
      "Unique value in FAVC column is: [['no' 'yes']]\n",
      "\n",
      "Unique value in CAEC column is: [['Sometimes' 'Frequently' 'Always' 'no']]\n",
      "\n",
      "Unique value in SMOKE column is: [['no' 'yes']]\n",
      "\n",
      "Unique value in SCC column is: [['no' 'yes']]\n",
      "\n",
      "Unique value in CALC column is: [['no' 'Sometimes' 'Frequently' 'Always']]\n",
      "\n",
      "Unique value in MTRANS column is: [['Public_Transportation' 'Walking' 'Automobile' 'Motorbike' 'Bike']]\n",
      "\n",
      "Unique value in NObeyesdad column is: [['Normal_Weight' 'Overweight_Level_I' 'Overweight_Level_II'\n",
      " 'Obesity_Type_I' 'Insufficient_Weight' 'Obesity_Type_II'\n",
      " 'Obesity_Type_III']]\n",
      "\n"
     ]
    }
   ],
   "source": [
    "for i in list(df.select_dtypes('object').columns):\n",
    "    print(f'Unique value in {i} column is: [{df[i].unique()}]')\n",
    "    print()"
   ]
  },
  {
   "cell_type": "code",
   "execution_count": 4,
   "metadata": {},
   "outputs": [
    {
     "data": {
      "image/png": "[encoded data removed]",
      "text/plain": [
       "<Figure size 1500x700 with 2 Axes>"
      ]
     },
     "metadata": {},
     "output_type": "display_data"
    }
   ],
   "source": [
    "fig, axs = plt.subplots(1,2,figsize = (15,7))\n",
    "plt.subplot(121)\n",
    "sns.histplot(data = df, x = 'Weight',bins = 30,kde= True,palette= \"husl\")\n",
    "plt.subplot(122)\n",
    "sns.histplot(data = df, x = 'Weight',bins = 30, hue = 'Gender',kde= True,palette= \"husl\")\n",
    "plt.show()"
   ]
  },
  {
   "cell_type": "code",
   "execution_count": 5,
   "metadata": {},
   "outputs": [
    {
     "data": {
      "text/plain": [
       "Gender                            0\n",
       "Age                               0\n",
       "Height                            0\n",
       "Weight                            0\n",
       "family_history_with_overweight    0\n",
       "FAVC                              0\n",
       "FCVC                              0\n",
       "NCP                               0\n",
       "CAEC                              0\n",
       "SMOKE                             0\n",
       "CH2O                              0\n",
       "SCC                               0\n",
       "FAF                               0\n",
       "TUE                               0\n",
       "CALC                              0\n",
       "MTRANS                            0\n",
       "NObeyesdad                        0\n",
       "dtype: int64"
      ]
     },
     "execution_count": 5,
     "metadata": {},
     "output_type": "execute_result"
    }
   ],
   "source": [
    "df.isnull().sum()"
   ]
  },
  {
   "cell_type": "code",
   "execution_count": 124,
   "metadata": {},
   "outputs": [],
   "source": []
  },
  {
   "cell_type": "code",
   "execution_count": 10,
   "metadata": {},
   "outputs": [],
   "source": [
    "# Unique value in MTRANS column is: [['Public_Transportation' 'Walking' 'Automobile' 'Motorbike' 'Bike']]\n",
    "# Since we are only interested in walking and not walking, \n",
    "# as it is a health data, we can merge the values to walking and non walking in the column\n"
   ]
  },
  {
   "cell_type": "markdown",
   "metadata": {},
   "source": [
    "# Pipeline"
   ]
  },
  {
   "cell_type": "code",
   "execution_count": 39,
   "metadata": {},
   "outputs": [],
   "source": [
    "df1 = df.copy(deep = True)"
   ]
  },
  {
   "cell_type": "code",
   "execution_count": 40,
   "metadata": {},
   "outputs": [
    {
     "data": {
      "text/html": [
       "<div>\n",
       "<style scoped>\n",
       "    .dataframe tbody tr th:only-of-type {\n",
       "        vertical-align: middle;\n",
       "    }\n",
       "\n",
       "    .dataframe tbody tr th {\n",
       "        vertical-align: top;\n",
       "    }\n",
       "\n",
       "    .dataframe thead th {\n",
       "        text-align: right;\n",
       "    }\n",
       "</style>\n",
       "<table border=\"1\" class=\"dataframe\">\n",
       "  <thead>\n",
       "    <tr style=\"text-align: right;\">\n",
       "      <th></th>\n",
       "      <th>MTRANS</th>\n",
       "      <th>CAEC</th>\n",
       "      <th>CALC</th>\n",
       "      <th>Gender</th>\n",
       "      <th>family_history_with_overweight</th>\n",
       "      <th>FAVC</th>\n",
       "      <th>SMOKE</th>\n",
       "      <th>SCC</th>\n",
       "      <th>NObeyesdad</th>\n",
       "      <th>Age</th>\n",
       "      <th>Height</th>\n",
       "      <th>Weight</th>\n",
       "      <th>FCVC</th>\n",
       "      <th>NCP</th>\n",
       "      <th>CH2O</th>\n",
       "      <th>FAF</th>\n",
       "      <th>TUE</th>\n",
       "    </tr>\n",
       "  </thead>\n",
       "  <tbody>\n",
       "    <tr>\n",
       "      <th>0</th>\n",
       "      <td>0.0</td>\n",
       "      <td>1.0</td>\n",
       "      <td>0.0</td>\n",
       "      <td>0.0</td>\n",
       "      <td>1.0</td>\n",
       "      <td>0.0</td>\n",
       "      <td>0.0</td>\n",
       "      <td>0.0</td>\n",
       "      <td>1.0</td>\n",
       "      <td>0.311064</td>\n",
       "      <td>0.023996</td>\n",
       "      <td>0.948005</td>\n",
       "      <td>0.029625</td>\n",
       "      <td>0.044438</td>\n",
       "      <td>0.029625</td>\n",
       "      <td>0.000000</td>\n",
       "      <td>0.014813</td>\n",
       "    </tr>\n",
       "    <tr>\n",
       "      <th>1</th>\n",
       "      <td>0.0</td>\n",
       "      <td>1.0</td>\n",
       "      <td>1.0</td>\n",
       "      <td>0.0</td>\n",
       "      <td>1.0</td>\n",
       "      <td>0.0</td>\n",
       "      <td>1.0</td>\n",
       "      <td>1.0</td>\n",
       "      <td>1.0</td>\n",
       "      <td>0.349258</td>\n",
       "      <td>0.025280</td>\n",
       "      <td>0.931355</td>\n",
       "      <td>0.049894</td>\n",
       "      <td>0.049894</td>\n",
       "      <td>0.049894</td>\n",
       "      <td>0.049894</td>\n",
       "      <td>0.000000</td>\n",
       "    </tr>\n",
       "    <tr>\n",
       "      <th>2</th>\n",
       "      <td>0.0</td>\n",
       "      <td>1.0</td>\n",
       "      <td>2.0</td>\n",
       "      <td>1.0</td>\n",
       "      <td>1.0</td>\n",
       "      <td>0.0</td>\n",
       "      <td>0.0</td>\n",
       "      <td>0.0</td>\n",
       "      <td>1.0</td>\n",
       "      <td>0.285648</td>\n",
       "      <td>0.022355</td>\n",
       "      <td>0.956301</td>\n",
       "      <td>0.024839</td>\n",
       "      <td>0.037258</td>\n",
       "      <td>0.024839</td>\n",
       "      <td>0.024839</td>\n",
       "      <td>0.012419</td>\n",
       "    </tr>\n",
       "    <tr>\n",
       "      <th>3</th>\n",
       "      <td>1.0</td>\n",
       "      <td>1.0</td>\n",
       "      <td>2.0</td>\n",
       "      <td>1.0</td>\n",
       "      <td>0.0</td>\n",
       "      <td>0.0</td>\n",
       "      <td>0.0</td>\n",
       "      <td>0.0</td>\n",
       "      <td>5.0</td>\n",
       "      <td>0.295878</td>\n",
       "      <td>0.019725</td>\n",
       "      <td>0.953386</td>\n",
       "      <td>0.032875</td>\n",
       "      <td>0.032875</td>\n",
       "      <td>0.021917</td>\n",
       "      <td>0.021917</td>\n",
       "      <td>0.000000</td>\n",
       "    </tr>\n",
       "    <tr>\n",
       "      <th>4</th>\n",
       "      <td>0.0</td>\n",
       "      <td>1.0</td>\n",
       "      <td>1.0</td>\n",
       "      <td>1.0</td>\n",
       "      <td>0.0</td>\n",
       "      <td>0.0</td>\n",
       "      <td>0.0</td>\n",
       "      <td>0.0</td>\n",
       "      <td>6.0</td>\n",
       "      <td>0.237783</td>\n",
       "      <td>0.019239</td>\n",
       "      <td>0.970586</td>\n",
       "      <td>0.021617</td>\n",
       "      <td>0.010808</td>\n",
       "      <td>0.021617</td>\n",
       "      <td>0.000000</td>\n",
       "      <td>0.000000</td>\n",
       "    </tr>\n",
       "    <tr>\n",
       "      <th>...</th>\n",
       "      <td>...</td>\n",
       "      <td>...</td>\n",
       "      <td>...</td>\n",
       "      <td>...</td>\n",
       "      <td>...</td>\n",
       "      <td>...</td>\n",
       "      <td>...</td>\n",
       "      <td>...</td>\n",
       "      <td>...</td>\n",
       "      <td>...</td>\n",
       "      <td>...</td>\n",
       "      <td>...</td>\n",
       "      <td>...</td>\n",
       "      <td>...</td>\n",
       "      <td>...</td>\n",
       "      <td>...</td>\n",
       "      <td>...</td>\n",
       "    </tr>\n",
       "    <tr>\n",
       "      <th>2106</th>\n",
       "      <td>0.0</td>\n",
       "      <td>1.0</td>\n",
       "      <td>1.0</td>\n",
       "      <td>0.0</td>\n",
       "      <td>1.0</td>\n",
       "      <td>1.0</td>\n",
       "      <td>0.0</td>\n",
       "      <td>0.0</td>\n",
       "      <td>4.0</td>\n",
       "      <td>0.157513</td>\n",
       "      <td>0.012846</td>\n",
       "      <td>0.986730</td>\n",
       "      <td>0.022527</td>\n",
       "      <td>0.022527</td>\n",
       "      <td>0.012976</td>\n",
       "      <td>0.012587</td>\n",
       "      <td>0.006805</td>\n",
       "    </tr>\n",
       "    <tr>\n",
       "      <th>2107</th>\n",
       "      <td>0.0</td>\n",
       "      <td>1.0</td>\n",
       "      <td>1.0</td>\n",
       "      <td>0.0</td>\n",
       "      <td>1.0</td>\n",
       "      <td>1.0</td>\n",
       "      <td>0.0</td>\n",
       "      <td>0.0</td>\n",
       "      <td>4.0</td>\n",
       "      <td>0.162071</td>\n",
       "      <td>0.012892</td>\n",
       "      <td>0.986029</td>\n",
       "      <td>0.022118</td>\n",
       "      <td>0.022118</td>\n",
       "      <td>0.014783</td>\n",
       "      <td>0.009889</td>\n",
       "      <td>0.004418</td>\n",
       "    </tr>\n",
       "    <tr>\n",
       "      <th>2108</th>\n",
       "      <td>0.0</td>\n",
       "      <td>1.0</td>\n",
       "      <td>1.0</td>\n",
       "      <td>0.0</td>\n",
       "      <td>1.0</td>\n",
       "      <td>1.0</td>\n",
       "      <td>0.0</td>\n",
       "      <td>0.0</td>\n",
       "      <td>4.0</td>\n",
       "      <td>0.166014</td>\n",
       "      <td>0.012915</td>\n",
       "      <td>0.985360</td>\n",
       "      <td>0.022112</td>\n",
       "      <td>0.022112</td>\n",
       "      <td>0.015140</td>\n",
       "      <td>0.010423</td>\n",
       "      <td>0.004763</td>\n",
       "    </tr>\n",
       "    <tr>\n",
       "      <th>2109</th>\n",
       "      <td>0.0</td>\n",
       "      <td>1.0</td>\n",
       "      <td>1.0</td>\n",
       "      <td>0.0</td>\n",
       "      <td>1.0</td>\n",
       "      <td>1.0</td>\n",
       "      <td>0.0</td>\n",
       "      <td>0.0</td>\n",
       "      <td>4.0</td>\n",
       "      <td>0.179571</td>\n",
       "      <td>0.012821</td>\n",
       "      <td>0.982894</td>\n",
       "      <td>0.022113</td>\n",
       "      <td>0.022113</td>\n",
       "      <td>0.021025</td>\n",
       "      <td>0.008396</td>\n",
       "      <td>0.004320</td>\n",
       "    </tr>\n",
       "    <tr>\n",
       "      <th>2110</th>\n",
       "      <td>0.0</td>\n",
       "      <td>1.0</td>\n",
       "      <td>1.0</td>\n",
       "      <td>0.0</td>\n",
       "      <td>1.0</td>\n",
       "      <td>1.0</td>\n",
       "      <td>0.0</td>\n",
       "      <td>0.0</td>\n",
       "      <td>4.0</td>\n",
       "      <td>0.174431</td>\n",
       "      <td>0.012817</td>\n",
       "      <td>0.983820</td>\n",
       "      <td>0.022113</td>\n",
       "      <td>0.022113</td>\n",
       "      <td>0.021107</td>\n",
       "      <td>0.007566</td>\n",
       "      <td>0.005264</td>\n",
       "    </tr>\n",
       "  </tbody>\n",
       "</table>\n",
       "<p>2111 rows × 17 columns</p>\n",
       "</div>"
      ],
      "text/plain": [
       "      MTRANS  CAEC  CALC  Gender  family_history_with_overweight  FAVC  SMOKE  \\\n",
       "0        0.0   1.0   0.0     0.0                             1.0   0.0    0.0   \n",
       "1        0.0   1.0   1.0     0.0                             1.0   0.0    1.0   \n",
       "2        0.0   1.0   2.0     1.0                             1.0   0.0    0.0   \n",
       "3        1.0   1.0   2.0     1.0                             0.0   0.0    0.0   \n",
       "4        0.0   1.0   1.0     1.0                             0.0   0.0    0.0   \n",
       "...      ...   ...   ...     ...                             ...   ...    ...   \n",
       "2106     0.0   1.0   1.0     0.0                             1.0   1.0    0.0   \n",
       "2107     0.0   1.0   1.0     0.0                             1.0   1.0    0.0   \n",
       "2108     0.0   1.0   1.0     0.0                             1.0   1.0    0.0   \n",
       "2109     0.0   1.0   1.0     0.0                             1.0   1.0    0.0   \n",
       "2110     0.0   1.0   1.0     0.0                             1.0   1.0    0.0   \n",
       "\n",
       "      SCC  NObeyesdad       Age    Height    Weight      FCVC       NCP  \\\n",
       "0     0.0         1.0  0.311064  0.023996  0.948005  0.029625  0.044438   \n",
       "1     1.0         1.0  0.349258  0.025280  0.931355  0.049894  0.049894   \n",
       "2     0.0         1.0  0.285648  0.022355  0.956301  0.024839  0.037258   \n",
       "3     0.0         5.0  0.295878  0.019725  0.953386  0.032875  0.032875   \n",
       "4     0.0         6.0  0.237783  0.019239  0.970586  0.021617  0.010808   \n",
       "...   ...         ...       ...       ...       ...       ...       ...   \n",
       "2106  0.0         4.0  0.157513  0.012846  0.986730  0.022527  0.022527   \n",
       "2107  0.0         4.0  0.162071  0.012892  0.986029  0.022118  0.022118   \n",
       "2108  0.0         4.0  0.166014  0.012915  0.985360  0.022112  0.022112   \n",
       "2109  0.0         4.0  0.179571  0.012821  0.982894  0.022113  0.022113   \n",
       "2110  0.0         4.0  0.174431  0.012817  0.983820  0.022113  0.022113   \n",
       "\n",
       "          CH2O       FAF       TUE  \n",
       "0     0.029625  0.000000  0.014813  \n",
       "1     0.049894  0.049894  0.000000  \n",
       "2     0.024839  0.024839  0.012419  \n",
       "3     0.021917  0.021917  0.000000  \n",
       "4     0.021617  0.000000  0.000000  \n",
       "...        ...       ...       ...  \n",
       "2106  0.012976  0.012587  0.006805  \n",
       "2107  0.014783  0.009889  0.004418  \n",
       "2108  0.015140  0.010423  0.004763  \n",
       "2109  0.021025  0.008396  0.004320  \n",
       "2110  0.021107  0.007566  0.005264  \n",
       "\n",
       "[2111 rows x 17 columns]"
      ]
     },
     "execution_count": 40,
     "metadata": {},
     "output_type": "execute_result"
    }
   ],
   "source": [
    "#Function for MTRANS column\n",
    "\n",
    "def MTRANS_map_Transformer(df):\n",
    "    MTRANS_map = {'Public_Transportation' : 'Not Walking', 'Automobile' : 'Not Walking', 'Motorbike' : 'Not Walking', 'Bike' : 'Not Walking',\"Walking\" : 'Walking' }\n",
    "\n",
    "    df['MTRANS'] = df['MTRANS'].map(MTRANS_map)\n",
    "    encoder = {'Walking' : 1, 'Not Walking': 0 }\n",
    "    df['MTRANS'] = df['MTRANS'].map(encoder)\n",
    "    return df[['MTRANS']]\n",
    "\n",
    "def CAEC_CALC_categories_map(df):\n",
    "    CAEC_CALC_categories= {'no' : 0,'Sometimes' : 1, 'Frequently': 2 ,'Always':3}\n",
    "    \n",
    "    df['CAEC'] = df['CAEC'].map(CAEC_CALC_categories)\n",
    "    df['CALC'] = df['CALC'].map(CAEC_CALC_categories)\n",
    "    return df[['CAEC','CALC']]\n",
    "\n",
    "\n",
    "\n",
    "\n",
    "#all_columns = list(df1.select_dtypes('object').columns)\n",
    "all_columns = ['Gender', 'family_history_with_overweight', 'FAVC',  'SMOKE', 'SCC', 'NObeyesdad']\n",
    "num_columns = list(df1.select_dtypes(exclude = 'O').columns)\n",
    "\n",
    "\n",
    "preprocessor1 = ColumnTransformer(\n",
    "                transformers = [\n",
    "                    ('MTRANS Transformer',FunctionTransformer(MTRANS_map_Transformer), ['MTRANS'] ),\n",
    "                    ('CAEC_CALC_categories_transformer', FunctionTransformer(CAEC_CALC_categories_map),['CAEC', 'CALC']),\n",
    "                    ('OrdinalEncoder', OrdinalEncoder(),all_columns ),\n",
    "                    ('StandardScaler', Normalizer(), num_columns)\n",
    "                    \n",
    "                ],remainder = 'passthrough'\n",
    ")\n",
    "\n",
    "\n",
    "\n",
    "\n",
    "pipeline = Pipeline(steps=[\n",
    "    ('preprocessor', preprocessor1),\n",
    "    \n",
    "    # Other steps in your pipeline, like model training, etc.\n",
    "])\n",
    "\n",
    "df3 = pipeline.fit_transform(df1)\n",
    "df3 = pd.DataFrame(df3 ,columns = ['MTRANS'] + ['CAEC', 'CALC'] + all_columns+num_columns )\n",
    "df3"
   ]
  },
  {
   "cell_type": "code",
   "execution_count": 42,
   "metadata": {},
   "outputs": [
    {
     "name": "stdout",
     "output_type": "stream",
     "text": [
      "24\n",
      "0\n"
     ]
    }
   ],
   "source": [
    "print(df3.duplicated().sum())\n",
    "df3.drop_duplicates(inplace = True)\n",
    "print(df3.duplicated().sum())\n"
   ]
  },
  {
   "cell_type": "code",
   "execution_count": 44,
   "metadata": {},
   "outputs": [
    {
     "data": {
      "text/plain": [
       "((2087, 17), (2111, 17))"
      ]
     },
     "execution_count": 44,
     "metadata": {},
     "output_type": "execute_result"
    }
   ],
   "source": [
    "df3.shape,df1.shape"
   ]
  },
  {
   "cell_type": "code",
   "execution_count": 46,
   "metadata": {},
   "outputs": [],
   "source": [
    "x = df3.drop(columns = ['NObeyesdad'])\n",
    "y = df3['NObeyesdad']"
   ]
  },
  {
   "cell_type": "code",
   "execution_count": 47,
   "metadata": {},
   "outputs": [],
   "source": [
    "from sklearn.model_selection import train_test_split\n",
    "xTrain,xTest,yTrain,yTest = train_test_split(x,y,test_size = 0.25)"
   ]
  },
  {
   "cell_type": "code",
   "execution_count": 58,
   "metadata": {},
   "outputs": [],
   "source": [
    "\n"
   ]
  },
  {
   "cell_type": "code",
   "execution_count": 53,
   "metadata": {},
   "outputs": [
    {
     "name": "stdout",
     "output_type": "stream",
     "text": [
      "Test Accuracy Score: 0.5134099616858238\n",
      "Train Accuracy Score: 0.5099041533546326\n"
     ]
    }
   ],
   "source": [
    "lr = LogisticRegression(multi_class='multinomial', solver='lbfgs', max_iter=1000)\n",
    "lr_model = lr.fit(xTrain,yTrain)\n",
    "y_pred_test = lr_model.predict(xTest)\n",
    "accuracy_lr_test = accuracy_score(y_pred_test, yTest)\n",
    "accuracy_lr_train = accuracy_score(lr.predict(xTrain), yTrain)\n",
    "print(f'Test Accuracy Score: {accuracy_lr_test}\\nTrain Accuracy Score: {accuracy_lr_train}')"
   ]
  },
  {
   "cell_type": "code",
   "execution_count": null,
   "metadata": {},
   "outputs": [],
   "source": []
  },
  {
   "cell_type": "code",
   "execution_count": 64,
   "metadata": {},
   "outputs": [
    {
     "name": "stdout",
     "output_type": "stream",
     "text": [
      "Test Accuracy Score: 0.8850574712643678\n",
      "Train Accuracy Score: 1.0\n"
     ]
    }
   ],
   "source": [
    "dt = DecisionTreeClassifier()\n",
    "dt_model = dt.fit(xTrain,yTrain)\n",
    "y_pred_test = dt_model.predict(xTest)\n",
    "accuracy_dt_test = accuracy_score(y_pred_test, yTest)\n",
    "accuracy_dt_train = accuracy_score(dt_model.predict(xTrain), yTrain)\n",
    "print(f'Test Accuracy Score: {accuracy_dt_test}\\nTrain Accuracy Score: {accuracy_dt_train}')"
   ]
  },
  {
   "cell_type": "code",
   "execution_count": null,
   "metadata": {},
   "outputs": [],
   "source": []
  },
  {
   "cell_type": "code",
   "execution_count": 54,
   "metadata": {},
   "outputs": [
    {
     "name": "stdout",
     "output_type": "stream",
     "text": [
      "Test Accuracy Score: 0.9521072796934866\n",
      "Train Accuracy Score: 1.0\n"
     ]
    }
   ],
   "source": [
    "rf = RandomForestClassifier()\n",
    "rf_model = rf.fit(xTrain,yTrain)\n",
    "y_pred_test = rf_model.predict(xTest)\n",
    "accuracy_rf_test = accuracy_score(y_pred_test, yTest)\n",
    "accuracy_rf_train = accuracy_score(rf_model.predict(xTrain), yTrain)\n",
    "print(f'Test Accuracy Score: {accuracy_rf_test}\\nTrain Accuracy Score: {accuracy_rf_train}')\n"
   ]
  },
  {
   "cell_type": "code",
   "execution_count": null,
   "metadata": {},
   "outputs": [],
   "source": []
  },
  {
   "cell_type": "code",
   "execution_count": 56,
   "metadata": {},
   "outputs": [
    {
     "name": "stdout",
     "output_type": "stream",
     "text": [
      "Test Accuracy Score: 0.9367816091954023\n",
      "Train Accuracy Score: 1.0\n"
     ]
    }
   ],
   "source": [
    "gbc = GradientBoostingClassifier()\n",
    "gbc_model = gbc.fit(xTrain,yTrain)\n",
    "y_pred_test = gbc_model.predict(xTest)\n",
    "accuracy_gbc_test = accuracy_score(y_pred_test, yTest)\n",
    "accuracy_gbc_train = accuracy_score(gbc_model.predict(xTrain), yTrain)\n",
    "print(f'Test Accuracy Score: {accuracy_gbc_test}\\nTrain Accuracy Score: {accuracy_gbc_train}')"
   ]
  },
  {
   "cell_type": "code",
   "execution_count": null,
   "metadata": {},
   "outputs": [],
   "source": []
  },
  {
   "cell_type": "code",
   "execution_count": 74,
   "metadata": {},
   "outputs": [
    {
     "name": "stdout",
     "output_type": "stream",
     "text": [
      "              precision    recall  f1-score   support\n",
      "\n",
      "         0.0       0.94      0.93      0.93        80\n",
      "         1.0       0.79      0.78      0.79        73\n",
      "         2.0       0.94      0.88      0.91        96\n",
      "         3.0       0.97      0.97      0.97        72\n",
      "         4.0       1.00      1.00      1.00        66\n",
      "         5.0       0.78      0.79      0.79        78\n",
      "         6.0       0.75      0.86      0.80        57\n",
      "\n",
      "    accuracy                           0.89       522\n",
      "   macro avg       0.88      0.89      0.88       522\n",
      "weighted avg       0.89      0.89      0.89       522\n",
      "\n"
     ]
    }
   ],
   "source": [
    "print(classification_report(y_pred_test,yTest))"
   ]
  },
  {
   "cell_type": "code",
   "execution_count": 76,
   "metadata": {},
   "outputs": [
    {
     "data": {
      "text/plain": [
       "array([[74,  6,  0,  0,  0,  0,  0],\n",
       "       [ 5, 57,  0,  0,  0,  9,  2],\n",
       "       [ 0,  0, 84,  2,  0,  3,  7],\n",
       "       [ 0,  0,  2, 70,  0,  0,  0],\n",
       "       [ 0,  0,  0,  0, 66,  0,  0],\n",
       "       [ 0,  9,  0,  0,  0, 62,  7],\n",
       "       [ 0,  0,  3,  0,  0,  5, 49]], dtype=int64)"
      ]
     },
     "execution_count": 76,
     "metadata": {},
     "output_type": "execute_result"
    }
   ],
   "source": [
    "confusion_matrix(y_pred_test,yTest)"
   ]
  },
  {
   "cell_type": "code",
   "execution_count": null,
   "metadata": {},
   "outputs": [],
   "source": []
  },
  {
   "cell_type": "code",
   "execution_count": null,
   "metadata": {},
   "outputs": [],
   "source": []
  },
  {
   "cell_type": "code",
   "execution_count": null,
   "metadata": {},
   "outputs": [],
   "source": []
  }
 ],
 "metadata": {
  "kernelspec": {
   "display_name": "Python 3 (ipykernel)",
   "language": "python",
   "name": "python3"
  },
  "language_info": {
   "codemirror_mode": {
    "name": "ipython",
    "version": 3
   },
   "file_extension": ".py",
   "mimetype": "text/x-python",
   "name": "python",
   "nbconvert_exporter": "python",
   "pygments_lexer": "ipython3",
   "version": "3.8.0"
  }
 },
 "nbformat": 4,
 "nbformat_minor": 2
}
